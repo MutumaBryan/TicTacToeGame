{
 "cells": [
  {
   "cell_type": "code",
   "execution_count": 1,
   "metadata": {},
   "outputs": [],
   "source": [
    "from IPython.display import clear_output\n",
    "\n",
    "def display_board(board):\n",
    "    clear_output()\n",
    "    print('   |   |')\n",
    "    print(' ' + board[7] + ' | ' + board[8] + ' | ' + board[9])\n",
    "    print('   |   |')\n",
    "    print('---|---|---')\n",
    "    print('   |   |')\n",
    "    print(' ' + board[4] + ' | ' + board[5] + ' | ' + board[6])\n",
    "    print('   |   |')\n",
    "    print('---|---|---')\n",
    "    print('   |   |')\n",
    "    print(' ' + board[1] + ' | ' + board[2] + ' | ' + board[3])\n",
    "    print('   |   |')"
   ]
  },
  {
   "cell_type": "code",
   "execution_count": 2,
   "metadata": {},
   "outputs": [],
   "source": [
    "board = [\" \"]*10"
   ]
  },
  {
   "cell_type": "code",
   "execution_count": 3,
   "metadata": {},
   "outputs": [],
   "source": [
    "def player_input():\n",
    "    \n",
    "    marker = ''\n",
    "    \n",
    "    while not (marker == \"X\" or marker == \"O\"):\n",
    "        marker = input(\"Enter marker either X or O: \").upper()\n",
    "        continue\n",
    "    \n",
    "    if marker == \"X\":\n",
    "        player2 = 'O'\n",
    "        player1 = 'X'\n",
    "    else:\n",
    "        player2 = 'X'\n",
    "        player1 = 'O'\n",
    "    return (player1, player2)"
   ]
  },
  {
   "cell_type": "code",
   "execution_count": 4,
   "metadata": {},
   "outputs": [],
   "source": [
    "def gameplay(board,marker,position):\n",
    "    board[position] = marker\n",
    "    display_board(board)"
   ]
  },
  {
   "cell_type": "code",
   "execution_count": 5,
   "metadata": {},
   "outputs": [],
   "source": [
    "def gameover(board, marker):\n",
    "    if (board[1]==board[2]==board[3]==marker) or (board[4]==board[5]==board[6]==marker) or (board[7]==board[8]==board[9]==marker) or (board[1]==board[4]==board[7]==marker) or (board[2]==board[5]==board[8]==marker) or (board[3]==board[6]==board[9]==marker) or (board[1]==board[5]==board[9]==marker) or (board[3]==board[5]==board[7]==marker):\n",
    "            return True"
   ]
  },
  {
   "cell_type": "code",
   "execution_count": 6,
   "metadata": {},
   "outputs": [],
   "source": [
    "import random\n",
    "\n",
    "def player(beginner):\n",
    "    if beginner == 0:\n",
    "        return 'player1'\n",
    "    else:\n",
    "        return 'player2'"
   ]
  },
  {
   "cell_type": "code",
   "execution_count": 7,
   "metadata": {},
   "outputs": [],
   "source": [
    "def empty(board, position):\n",
    "    return board[position] == \" \""
   ]
  },
  {
   "cell_type": "code",
   "execution_count": 8,
   "metadata": {},
   "outputs": [],
   "source": [
    "def notover(board):\n",
    "    list1 = []\n",
    "    for n in range(1,10):\n",
    "        list1.append(board[n])\n",
    "    return ' ' in list1"
   ]
  },
  {
   "cell_type": "code",
   "execution_count": 9,
   "metadata": {},
   "outputs": [],
   "source": [
    "def nextplay(board):\n",
    "    choice = int(input(\"Input Your Move: \"))\n",
    "    while choice not in range(1,11) or not empty(board, choice):\n",
    "        choice = int(input(\"Oops wrong choice: \"))\n",
    "    return choice"
   ]
  },
  {
   "cell_type": "code",
   "execution_count": 10,
   "metadata": {},
   "outputs": [],
   "source": [
    "def rematch():\n",
    "    rematch = input(\"Play a new game(Y/N): \").lower()\n",
    "    return rematch == 'y'        "
   ]
  },
  {
   "cell_type": "code",
   "execution_count": 11,
   "metadata": {},
   "outputs": [
    {
     "name": "stdout",
     "output_type": "stream",
     "text": [
      "   |   |\n",
      " X |   |  \n",
      "   |   |\n",
      "---|---|---\n",
      "   |   |\n",
      " O | X | O\n",
      "   |   |\n",
      "---|---|---\n",
      "   |   |\n",
      " X | O | X\n",
      "   |   |\n",
      "Game Over!\n",
      "Play a new game(Y/N): n\n",
      "Game Over!\n",
      "Play a new game(Y/N): n\n"
     ]
    }
   ],
   "source": [
    "print(\"TicTacToe\")\n",
    "Game = True\n",
    "while Game:\n",
    "    \n",
    "    display_board(board)\n",
    "    play = True\n",
    "    beginner = 'player1'\n",
    "    player1, player2 = player_input()\n",
    "    while play:\n",
    "        player = beginner\n",
    "        while player == 'player1':\n",
    "            marker = player1\n",
    "            position = nextplay(board)\n",
    "            gameplay(board,marker,position)\n",
    "            beginner = 'player2'\n",
    "            break\n",
    "        \n",
    "        if gameover(board, marker) or not(notover(board)):\n",
    "            print(\"Game Over!\")\n",
    "            if rematch():\n",
    "                pass\n",
    "            else:\n",
    "                play = False\n",
    "                \n",
    "                \n",
    "        while player == 'player2':\n",
    "            marker = player2\n",
    "            position = nextplay(board)\n",
    "            gameplay(board,marker,position)\n",
    "            beginner = 'player1'\n",
    "            break\n",
    "        \n",
    "        if gameover(board, marker) or not(notover(board)):\n",
    "            print(\"Game Over!\")\n",
    "            if rematch():\n",
    "                continue\n",
    "            else:\n",
    "                play = False\n",
    "    break"
   ]
  },
  {
   "cell_type": "code",
   "execution_count": null,
   "metadata": {},
   "outputs": [],
   "source": []
  }
 ],
 "metadata": {
  "kernelspec": {
   "display_name": "Python 3",
   "language": "python",
   "name": "python3"
  },
  "language_info": {
   "codemirror_mode": {
    "name": "ipython",
    "version": 3
   },
   "file_extension": ".py",
   "mimetype": "text/x-python",
   "name": "python",
   "nbconvert_exporter": "python",
   "pygments_lexer": "ipython3",
   "version": "3.6.7"
  }
 },
 "nbformat": 4,
 "nbformat_minor": 2
}
